{
 "cells": [
  {
   "cell_type": "markdown",
   "metadata": {},
   "source": [
    "# Problem Set 3: Geometry\n",
    "---\n",
    "## Setup"
   ]
  },
  {
   "cell_type": "code",
   "execution_count": 134,
   "metadata": {},
   "outputs": [
    {
     "name": "stdout",
     "output_type": "stream",
     "text": [
      "The autoreload extension is already loaded. To reload it, use:\n",
      "  %reload_ext autoreload\n"
     ]
    }
   ],
   "source": [
    "# IPython magic\n",
    "%load_ext autoreload\n",
    "%autoreload 2\n",
    "# Matplotlib magic\n",
    "%matplotlib inline"
   ]
  },
  {
   "cell_type": "code",
   "execution_count": 135,
   "metadata": {},
   "outputs": [],
   "source": [
    "# Imports\n",
    "import cv2\n",
    "import matplotlib.pyplot as plt\n",
    "import numpy as np\n",
    "# Matplotlib params\n",
    "plt.rcParams['figure.figsize'] = (14.0, 6.0)\n",
    "plt.rcParams['axes.titlesize'] = 18\n",
    "plt.rcParams['figure.titlesize'] = 22\n",
    "plt.rcParams['image.interpolation'] = 'nearest'\n",
    "plt.rcParams['image.cmap'] = 'gray'"
   ]
  },
  {
   "cell_type": "markdown",
   "metadata": {},
   "source": [
    "---\n",
    "## 1. Calibration"
   ]
  },
  {
   "cell_type": "code",
   "execution_count": 141,
   "metadata": {},
   "outputs": [],
   "source": [
    "# Actual points in image A\n",
    "with open('pts2d-pic_a.txt', 'r') as f:\n",
    "    pts2d_a = np.array([[int(n) for n in line.split()] for line in f])\n",
    "# Actual points in 3D space\n",
    "with open('pts3d.txt', 'r') as f:\n",
    "    pts3d = np.array([[float(n) for n in line.split()] for line in f])\n",
    "# Normalized points in image A\n",
    "with open('pts2d-norm-pic_a.txt', 'r') as f:\n",
    "    pts2d_norm_a = np.array([[float(n) for n in line.split()] for line in f])\n",
    "# Normalized points in 3D space\n",
    "with open('pts3d-norm.txt', 'r') as f:\n",
    "    pts3d_norm = np.array([[float(n) for n in line.split()] for line in f])"
   ]
  },
  {
   "cell_type": "markdown",
   "metadata": {},
   "source": [
    "### 1.1 M from least squares"
   ]
  },
  {
   "cell_type": "code",
   "execution_count": 122,
   "metadata": {},
   "outputs": [],
   "source": [
    "def projective_matrix_lsq(pts2d, pts3d):\n",
    "    # Dims\n",
    "    num_points = len(pts3d)\n",
    "    num_variables = 11\n",
    "    # AM = b\n",
    "    A = np.zeros((2*num_points, num_variables), dtype=np.float)\n",
    "    b = np.zeros((2*num_points), dtype=np.float)\n",
    "    for ix, ([u, v], [x, y, z]) in enumerate(zip(pts2d, pts3d)):\n",
    "        A[2*ix, :]   = [x, y, z, 1, 0, 0, 0, 0, -u*x, -u*y, -u*z]\n",
    "        A[2*ix+1, :] = [0, 0, 0, 0, x, y, z, 1, -v*x, -v*y, -v*z]\n",
    "        b[2*ix]   = u\n",
    "        b[2*ix+1] = v\n",
    "    # M = np.linalg.lstsq(A, b)[0]\n",
    "    # M = (A'A)^-1.A'b\n",
    "    M = np.linalg.inv(A.T@A) @ A.T @ b\n",
    "    M = np.append(M, 1).reshape((3, 4))\n",
    "    return M"
   ]
  },
  {
   "cell_type": "code",
   "execution_count": 125,
   "metadata": {},
   "outputs": [
    {
     "name": "stdout",
     "output_type": "stream",
     "text": [
      "[[ 0.76785834 -0.49384797 -0.02339781  0.00674445]\n",
      " [-0.0852134  -0.09146818 -0.90652332 -0.08775678]\n",
      " [ 0.18265016  0.29882917 -0.07419242  1.        ]]\n"
     ]
    }
   ],
   "source": [
    "M = projective_matrix_lsq(pts2d_norm_a, pts3d_norm)\n",
    "print(M)"
   ]
  },
  {
   "cell_type": "code",
   "execution_count": 160,
   "metadata": {},
   "outputs": [
    {
     "name": "stdout",
     "output_type": "stream",
     "text": [
      "Coordinates of point in 3D (x, y, z)   : (1.2323,  1.4421,  0.4506)\n",
      "Calculated coordinates in Image (u, v) : (242.2849, 165.8126)\n",
      "Actual coordinates in Image (u, v)     : (0.1406, -0.4527)\n",
      "Calculated residue                     : 293.7311\n"
     ]
    }
   ],
   "source": [
    "pt_3d = pts3d_norm[-1].copy()\n",
    "print('Coordinates of point in 3D (x, y, z)   : ({:.4f}, {:7.4f}, {:7.4f})'.format(*pt_3d))\n",
    "pt_3d = np.append(pt_3d, 1)\n",
    "us, vs, s = M @ last_point\n",
    "print('Calculated coordinates in Image (u, v) : ({:.4f}, {:7.4f})'.format(us/s, vs/s))\n",
    "u, v = pts2d_norm_a[-1]\n",
    "print('Actual coordinates in Image (u, v)     : ({:.4f}, {:7.4f})'.format(u, v))\n",
    "resid = np.sqrt((u-us/s)**2 + (v-vs/s)**2)\n",
    "print('Calculated residue                     : {:.4f}'.format(resid))"
   ]
  },
  {
   "cell_type": "markdown",
   "metadata": {},
   "source": [
    "### 1.2 Number of points and M"
   ]
  },
  {
   "cell_type": "code",
   "execution_count": 137,
   "metadata": {},
   "outputs": [],
   "source": [
    "# Points in image B\n",
    "with open('pts2d-pic_b.txt', 'r') as f:\n",
    "    pts2d_b = np.array([[int(n) for n in line.split()] for line in f])"
   ]
  },
  {
   "cell_type": "code",
   "execution_count": 149,
   "metadata": {},
   "outputs": [
    {
     "name": "stdout",
     "output_type": "stream",
     "text": [
      "[[-2.05008298e+00  1.19802723e+00  3.73792932e-01  2.41921658e+02]\n",
      " [-4.56220404e-01 -3.00593432e-01  2.15064770e+00  1.65159332e+02]\n",
      " [-2.24897072e-03 -1.09007895e-03  5.39849821e-04  1.00000000e+00]]\n"
     ]
    }
   ],
   "source": [
    "sample_size = [8, 12, 16]\n",
    "num_iters = 10\n",
    "min_avg_resid = np.inf\n",
    "for _ in range(num_iters):\n",
    "    for k in sample_size:\n",
    "        num_checks = 4\n",
    "        sample = np.random.choice(num_points, k+num_checks, replace=False)\n",
    "        pts2d_sample = pts2d_b[sample[:k]]\n",
    "        pts3d_sample = pts3d[sample[:k]]\n",
    "        M = projective_matrix_lsq(pts2d_sample, pts3d_sample)\n",
    "        avg_resid = 0\n",
    "        for ix in sample[k:]:\n",
    "            pt3d = pts3d[ix].copy()\n",
    "            pt3d = np.append(pt3d, 1)\n",
    "            us, vs, s = M @ pt3d\n",
    "            u, v = pts2d_b[ix]\n",
    "            resid = np.sqrt((u-us/s)**2 + (v-vs/s)**2)\n",
    "            avg_resid += resid / num_checks\n",
    "        if avg_resid < min_avg_resid:\n",
    "            min_avg_resid = avg_resid\n",
    "            M_best = M\n",
    "print(M)"
   ]
  },
  {
   "cell_type": "markdown",
   "metadata": {},
   "source": [
    "### 1.3 Center of camera"
   ]
  },
  {
   "cell_type": "code",
   "execution_count": 154,
   "metadata": {},
   "outputs": [
    {
     "name": "stdout",
     "output_type": "stream",
     "text": [
      "Coordinates of camera (x, y, z): (303.0623, 307.1779, 30.4278)\n"
     ]
    }
   ],
   "source": [
    "Q = M[:, :3]\n",
    "m4 = M[:, 3]\n",
    "C = -np.linalg.inv(Q) @ m4\n",
    "print('Coordinates of camera (x, y, z): ({:.4f}, {:7.4f}, {:7.4f})'.format(*C))"
   ]
  }
 ],
 "metadata": {
  "kernelspec": {
   "display_name": "Python 3",
   "language": "python",
   "name": "python3"
  },
  "language_info": {
   "codemirror_mode": {
    "name": "ipython",
    "version": 3
   },
   "file_extension": ".py",
   "mimetype": "text/x-python",
   "name": "python",
   "nbconvert_exporter": "python",
   "pygments_lexer": "ipython3",
   "version": "3.7.2"
  }
 },
 "nbformat": 4,
 "nbformat_minor": 2
}
