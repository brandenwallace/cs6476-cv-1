{
 "cells": [
  {
   "cell_type": "markdown",
   "metadata": {},
   "source": [
    "# Problem Set 3: Geometry\n",
    "---\n",
    "## Setup"
   ]
  },
  {
   "cell_type": "code",
   "execution_count": 15,
   "metadata": {},
   "outputs": [
    {
     "name": "stdout",
     "output_type": "stream",
     "text": [
      "The autoreload extension is already loaded. To reload it, use:\n",
      "  %reload_ext autoreload\n"
     ]
    }
   ],
   "source": [
    "# IPython magic\n",
    "%load_ext autoreload\n",
    "%autoreload 2\n",
    "# Matplotlib magic\n",
    "%matplotlib inline"
   ]
  },
  {
   "cell_type": "code",
   "execution_count": 63,
   "metadata": {},
   "outputs": [],
   "source": [
    "# Imports\n",
    "import cv2\n",
    "import matplotlib.pyplot as plt\n",
    "import numpy as np\n",
    "# Matplotlib params\n",
    "plt.rcParams['figure.figsize'] = (14.0, 6.0)\n",
    "plt.rcParams['axes.titlesize'] = 18\n",
    "plt.rcParams['figure.titlesize'] = 22\n",
    "plt.rcParams['image.interpolation'] = 'nearest'\n",
    "plt.rcParams['image.cmap'] = 'gray'"
   ]
  },
  {
   "cell_type": "markdown",
   "metadata": {},
   "source": [
    "---\n",
    "## 1. Calibration"
   ]
  },
  {
   "cell_type": "code",
   "execution_count": 64,
   "metadata": {},
   "outputs": [],
   "source": [
    "# Actual points in image A\n",
    "with open('pts2d-pic_a.txt', 'r') as f:\n",
    "    pts2d_a = [[int(n) for n in line.split()] for line in f]\n",
    "# Actual points in 3D space\n",
    "with open('pts3d.txt', 'r') as f:\n",
    "    pts3d = [[float(n) for n in line.split()] for line in f]\n",
    "# Normalized points in image A\n",
    "with open('pts2d-norm-pic_a.txt', 'r') as f:\n",
    "    pts2d_norm_a = [[float(n) for n in line.split()] for line in f]\n",
    "# Normalized points in 3D space\n",
    "with open('pts3d-norm.txt', 'r') as f:\n",
    "    pts3d_norm = [[float(n) for n in line.split()] for line in f]"
   ]
  },
  {
   "cell_type": "markdown",
   "metadata": {},
   "source": [
    "### 1.1 M from least squares"
   ]
  },
  {
   "cell_type": "code",
   "execution_count": 65,
   "metadata": {},
   "outputs": [],
   "source": [
    "num_points = len(pts3d_norm)\n",
    "num_variables = 11\n",
    "# AM = b\n",
    "A = np.zeros((2*num_points, num_variables), dtype=np.float)\n",
    "b = np.zeros((2*num_points), dtype=np.float)\n",
    "for ix, ([u, v], [x, y, z]) in enumerate(zip(pts2d_norm_a, pts3d_norm)):\n",
    "    A[2*ix, :]   = [x, y, z, 1, 0, 0, 0, 0, -u*x, -u*y, -u*z]\n",
    "    A[2*ix+1, :] = [0, 0, 0, 0, x, y, z, 1, -v*x, -v*y, -v*z]\n",
    "    b[2*ix]   = u\n",
    "    b[2*ix+1] = v"
   ]
  },
  {
   "cell_type": "code",
   "execution_count": 66,
   "metadata": {},
   "outputs": [],
   "source": [
    "# M = np.linalg.lstsq(A, b)[0]\n",
    "# M = (A'A)^-1.A'b\n",
    "M = np.linalg.inv(A.T@A) @ A.T @ b\n",
    "M = np.append(M, 1).reshape((3, 4))"
   ]
  },
  {
   "cell_type": "code",
   "execution_count": 105,
   "metadata": {},
   "outputs": [
    {
     "name": "stdout",
     "output_type": "stream",
     "text": [
      "Coordinates of point in 3D:      (1.2323,  1.4421,  0.4506)\n",
      "Calculated coordinates in Image: (0.1419, -0.4518)\n",
      "Actual coordinates in Image:     (0.1406, -0.4527)\n",
      "Calculated residue:               0.0016\n"
     ]
    }
   ],
   "source": [
    "pt_3d = pts3d_norm[-1]\n",
    "print('Coordinates of point in 3D:      ({:.4f}, {:7.4f}, {:7.4f})'.format(*pt_3d))\n",
    "pt_3d.append(1)\n",
    "us, vs, s = M @ last_point\n",
    "print('Calculated coordinates in Image: ({:.4f}, {:7.4f})'.format(us/s, vs/s))\n",
    "u, v = pts2d_norm_a[-1]\n",
    "print('Actual coordinates in Image:     ({:.4f}, {:7.4f})'.format(u, v))\n",
    "resid = np.sqrt((u-us/s)**2 + (v-vs/s)**2)\n",
    "print('Calculated residue:               {:.4f}'.format(resid))"
   ]
  },
  {
   "cell_type": "markdown",
   "metadata": {},
   "source": [
    "### 1.2 M from least squares"
   ]
  }
 ],
 "metadata": {
  "kernelspec": {
   "display_name": "Python 3",
   "language": "python",
   "name": "python3"
  },
  "language_info": {
   "codemirror_mode": {
    "name": "ipython",
    "version": 3
   },
   "file_extension": ".py",
   "mimetype": "text/x-python",
   "name": "python",
   "nbconvert_exporter": "python",
   "pygments_lexer": "ipython3",
   "version": "3.7.2"
  }
 },
 "nbformat": 4,
 "nbformat_minor": 2
}
