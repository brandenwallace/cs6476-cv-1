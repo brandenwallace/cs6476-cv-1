{
 "cells": [
  {
   "cell_type": "markdown",
   "metadata": {},
   "source": [
    "# Problem Set 1: Edges and Lines\n",
    "---\n",
    "## Setup"
   ]
  },
  {
   "cell_type": "code",
   "execution_count": 1,
   "metadata": {},
   "outputs": [],
   "source": [
    "# IPython magic\n",
    "%load_ext autoreload\n",
    "%autoreload 2\n",
    "# Matplotlib magic\n",
    "%matplotlib inline"
   ]
  },
  {
   "cell_type": "code",
   "execution_count": 2,
   "metadata": {},
   "outputs": [],
   "source": [
    "# Imports\n",
    "import cv2\n",
    "import matplotlib.pyplot as plt\n",
    "import numpy as np\n",
    "# Matplotlib params\n",
    "plt.rcParams['figure.figsize'] = (14.0, 6.0)\n",
    "plt.rcParams['axes.titlesize'] = 18\n",
    "plt.rcParams['figure.titlesize'] = 20\n",
    "plt.rcParams['image.interpolation'] = 'nearest'\n",
    "plt.rcParams['image.cmap'] = 'gray'"
   ]
  },
  {
   "cell_type": "code",
   "execution_count": 3,
   "metadata": {},
   "outputs": [],
   "source": [
    "# Change to True if Jupyter Widgets extension is installed\n",
    "IS_INTERACTIVE = True\n",
    "# Turn widgets on-off\n",
    "if IS_INTERACTIVE:\n",
    "    from ipywidgets import interact\n",
    "else:\n",
    "    def interact(**kwargs):\n",
    "        def decorator(f):\n",
    "            return f()\n",
    "        return decorator"
   ]
  },
  {
   "cell_type": "markdown",
   "metadata": {},
   "source": [
    "---\n",
    "## 1. Edge Operator"
   ]
  },
  {
   "cell_type": "code",
   "execution_count": 4,
   "metadata": {},
   "outputs": [
    {
     "data": {
      "image/png": "[encoded data removed]",
      "text/plain": [
       "<Figure size 1008x432 with 2 Axes>"
      ]
     },
     "metadata": {
      "needs_background": "light"
     },
     "output_type": "display_data"
    }
   ],
   "source": [
    "# Load image\n",
    "img1 = cv2.imread('ps1-input0.png')\n",
    "# OpenCV BGR to RGB\n",
    "img1 = img1[:,:,::-1]\n",
    "# Edge Detection\n",
    "img1_edges = cv2.Canny(img1, 100, 200)\n",
    "# Plot\n",
    "fig, ax = plt.subplots(1, 2)\n",
    "ax[0].set_title('Detected Edges')\n",
    "ax[0].imshow(img1_edges)\n",
    "ax[1].set_title('Original Image')\n",
    "ax[1].imshow(img1);"
   ]
  },
  {
   "cell_type": "markdown",
   "metadata": {},
   "source": [
    "---\n",
    "## 2. Hough Line Detector"
   ]
  },
  {
   "cell_type": "code",
   "execution_count": 79,
   "metadata": {},
   "outputs": [],
   "source": [
    "def houghlines(img,rho_res=1.0,theta_res=np.pi/180,thresh=100):\n",
    "    num_theta = int(np.pi / theta_res)\n",
    "    rho_min = -img.shape[1]\n",
    "    rho_max = np.sqrt(img.shape[0] ** 2 + img.shape[1] ** 2)\n",
    "    num_rho = int((rho_max - rho_min) / rho_res)\n",
    "    accum = np.zeros((num_rho, num_theta))\n",
    "    for y, row in enumerate(img):\n",
    "        for x, val in enumerate(row):\n",
    "            if val > 0:\n",
    "                for theta_ix in range(num_theta):\n",
    "                    theta = theta_ix * theta_res\n",
    "                    d = x*np.cos(theta) + y*np.sin(theta)\n",
    "                    d_ix = int((d - rho_min) / rho_res)\n",
    "                    accum[d_ix, theta_ix] += 1\n",
    "    indices = np.argwhere(accum > thresh)\n",
    "    lines = [(rho_min + rho_ix*rho_res, theta_ix*theta_res) for rho_ix, theta_ix in indices]\n",
    "    return lines, accum\n",
    "\n",
    "def get_line_points(rho, theta, xrange, yrange=0):\n",
    "    if np.sin(theta):\n",
    "        fx = (rho - xrange*np.cos(theta)) / np.sin(theta)\n",
    "        return xrange, fx\n",
    "    else:\n",
    "        fy = (rho - yrange*np.sin(theta)) / np.cos(theta)\n",
    "        return fy, yrange\n",
    "    \n",
    "def plot_hough_result(img, lines, accum):\n",
    "    fig, ax = plt.subplots(1, 2)\n",
    "    # Get rho range\n",
    "    rho_min = -img.shape[1]\n",
    "    rho_max = np.sqrt(img.shape[0] ** 2 + img.shape[1] ** 2)\n",
    "    # Lines\n",
    "    ax[0].imshow(img)\n",
    "    ax[0].set_title('Detected Lines')\n",
    "    # Fix x,y axes\n",
    "    ax[0].set_ylim(img.shape[0], 0)\n",
    "    ax[0].set_xlim(0, img.shape[1])\n",
    "    xrange = range(img.shape[1])\n",
    "    yrange = range(img.shape[0])\n",
    "    # Plot each line\n",
    "    for rho, theta in lines:\n",
    "        ax[0].plot(*get_line_points(rho, theta, xrange, yrange), 'g')\n",
    "    # Accumulator\n",
    "    im = ax[1].imshow(accum, aspect='auto', origin='lower', extent=[0, 180, rho_min, rho_max])\n",
    "    ax[1].set_title('Accumulator')\n",
    "    # Create colorbar\n",
    "    plt.colorbar(im)"
   ]
  },
  {
   "cell_type": "code",
   "execution_count": 77,
   "metadata": {},
   "outputs": [
    {
     "data": {
      "application/vnd.jupyter.widget-view+json": {
       "model_id": "cb0843521bad40d5a2e5f5b93e311efb",
       "version_major": 2,
       "version_minor": 0
      },
      "text/plain": [
       "interactive(children=(IntSlider(value=1, description='rho_res', max=10, min=1), IntSlider(value=200, descripti…"
      ]
     },
     "metadata": {},
     "output_type": "display_data"
    }
   ],
   "source": [
    "@interact(rho_res=(1, 10), thresh=(100, 500))\n",
    "def img1_hough(rho_res=1.0, thresh=200):\n",
    "    # Find lines\n",
    "    lines, accum = houghlines(img1_edges, rho_res=rho_res, thresh=thresh)\n",
    "    # Plot\n",
    "    plot_hough_result(img1, lines, accum)"
   ]
  },
  {
   "cell_type": "markdown",
   "metadata": {},
   "source": [
    "---\n",
    "## 3. Edge Detection with Noise"
   ]
  },
  {
   "cell_type": "code",
   "execution_count": 10,
   "metadata": {},
   "outputs": [],
   "source": [
    "#### Load Noisy image\n",
    "img1n = cv2.imread('ps1-input0-noise.png')"
   ]
  },
  {
   "cell_type": "markdown",
   "metadata": {},
   "source": [
    "### a. Gaussian Filter"
   ]
  },
  {
   "cell_type": "code",
   "execution_count": 11,
   "metadata": {},
   "outputs": [
    {
     "data": {
      "application/vnd.jupyter.widget-view+json": {
       "model_id": "ea1a260261124c3f94fe83d06ca2b1c4",
       "version_major": 2,
       "version_minor": 0
      },
      "text/plain": [
       "interactive(children=(IntSlider(value=13, description='ksize', max=25, min=1, step=2), FloatSlider(value=4.2, …"
      ]
     },
     "metadata": {},
     "output_type": "display_data"
    }
   ],
   "source": [
    "@interact(ksize=(1,25,2), sigma=(0.1,5.0,0.1))\n",
    "def img1_gaussian_blur(ksize=13, sigma=4.2):\n",
    "    global img1n_blur\n",
    "    # Add blur\n",
    "    img1n_blur = cv2.GaussianBlur(img1n, (ksize, ksize), sigma)\n",
    "    # Plot\n",
    "    fig, ax = plt.subplots(1, 2)\n",
    "    ax[0].imshow(img1n_blur)\n",
    "    ax[0].set_title('Smoothed Image')\n",
    "    ax[1].imshow(img1n)\n",
    "    ax[1].set_title('Original Image')"
   ]
  },
  {
   "cell_type": "markdown",
   "metadata": {},
   "source": [
    "### b. Edge Operator"
   ]
  },
  {
   "cell_type": "code",
   "execution_count": 21,
   "metadata": {},
   "outputs": [
    {
     "data": {
      "application/vnd.jupyter.widget-view+json": {
       "model_id": "a601a410e920468fa0f6ed56d5c91191",
       "version_major": 2,
       "version_minor": 0
      },
      "text/plain": [
       "interactive(children=(IntSlider(value=50, description='thresh1_low', max=255), IntSlider(value=65, description…"
      ]
     },
     "metadata": {},
     "output_type": "display_data"
    }
   ],
   "source": [
    "@interact(thresh1_low=(0,255), thresh1_high=(0,255))\n",
    "def img1_canny(thresh1_low=50, thresh1_high=65):\n",
    "    global img1n_blur_edges\n",
    "    # Canny edge operator\n",
    "    img1n_blur_edges = cv2.Canny(img1n_blur, thresh1_low, thresh1_high)\n",
    "    img1n_edges = cv2.Canny(img1n, 50, 65)\n",
    "    # Plot\n",
    "    fig, ax = plt.subplots(1, 2)\n",
    "    fig.suptitle('Edge Detection')\n",
    "    ax[0].imshow(img1n_blur_edges)\n",
    "    ax[0].set_title('Smoothed Image')\n",
    "    ax[1].imshow(img1n_edges)\n",
    "    ax[1].set_title('Original Image')"
   ]
  },
  {
   "cell_type": "markdown",
   "metadata": {},
   "source": [
    "### c. Hough Line detection"
   ]
  },
  {
   "cell_type": "code",
   "execution_count": 52,
   "metadata": {},
   "outputs": [
    {
     "data": {
      "application/vnd.jupyter.widget-view+json": {
       "model_id": "ab6890f5946a408ba6c2e1dd9706d18d",
       "version_major": 2,
       "version_minor": 0
      },
      "text/plain": [
       "interactive(children=(IntSlider(value=2, description='rho_res', max=10, min=1), FloatSlider(value=0.0174532925…"
      ]
     },
     "metadata": {},
     "output_type": "display_data"
    }
   ],
   "source": [
    "@interact(rho_res=(1, 10), theta_res=(np.pi/180, np.pi/30, np.pi/180), thresh=(50, 400))\n",
    "def img1n_hough(rho_res=2.0, theta_res=np.pi/180, thresh=130):\n",
    "    # Find lines\n",
    "    lines, accum = houghlines(img1n_blur_edges, rho_res=rho_res, theta_res=theta_res, thresh=thresh)\n",
    "    # Plot\n",
    "    plot_hough_result(img1n, lines, accum)"
   ]
  },
  {
   "cell_type": "markdown",
   "metadata": {},
   "source": [
    "---\n",
    "## 4. Edge Detection: Second Image"
   ]
  },
  {
   "cell_type": "code",
   "execution_count": 14,
   "metadata": {},
   "outputs": [],
   "source": [
    "#### Load Noisy image\n",
    "img2 = cv2.imread('ps1-input1.jpg')"
   ]
  },
  {
   "cell_type": "markdown",
   "metadata": {},
   "source": [
    "### a. Gaussian Filter"
   ]
  },
  {
   "cell_type": "code",
   "execution_count": 15,
   "metadata": {},
   "outputs": [
    {
     "data": {
      "application/vnd.jupyter.widget-view+json": {
       "model_id": "d188ef609558498f944949fb7b44c621",
       "version_major": 2,
       "version_minor": 0
      },
      "text/plain": [
       "interactive(children=(IntSlider(value=11, description='ksize', max=25, min=1, step=2), FloatSlider(value=3.0, …"
      ]
     },
     "metadata": {},
     "output_type": "display_data"
    }
   ],
   "source": [
    "@interact(ksize=(1,25,2), sigma=(0.1,5.0,0.1))\n",
    "def img2_gaussian_blur(ksize=11, sigma=3.0):\n",
    "    global img2_blur\n",
    "    # Add blur\n",
    "    img2_blur = cv2.GaussianBlur(img2, (ksize, ksize), sigma)\n",
    "    # Plot\n",
    "    fig, ax = plt.subplots(1, 2)\n",
    "    ax[0].imshow(img2_blur)\n",
    "    ax[0].set_title('Smoothed Image')\n",
    "    ax[1].imshow(img2)\n",
    "    ax[1].set_title('Original Image')"
   ]
  },
  {
   "cell_type": "markdown",
   "metadata": {},
   "source": [
    "### b. Edge Operator"
   ]
  },
  {
   "cell_type": "code",
   "execution_count": 16,
   "metadata": {},
   "outputs": [
    {
     "data": {
      "application/vnd.jupyter.widget-view+json": {
       "model_id": "5b26a80ce40047dcb76d658a483ee5ee",
       "version_major": 2,
       "version_minor": 0
      },
      "text/plain": [
       "interactive(children=(IntSlider(value=50, description='thresh1_low', max=255), IntSlider(value=100, descriptio…"
      ]
     },
     "metadata": {},
     "output_type": "display_data"
    }
   ],
   "source": [
    "@interact(thresh1_low=(0,255), thresh1_high=(0,255))\n",
    "def img2_canny(thresh1_low=50, thresh1_high=100):\n",
    "    global img2_edges\n",
    "    # Canny edge operator\n",
    "    img2_edges = cv2.Canny(img2_blur, thresh1_low, thresh1_high)\n",
    "    # Plot\n",
    "    plt.imshow(img2_edges)"
   ]
  },
  {
   "cell_type": "markdown",
   "metadata": {},
   "source": [
    "### c. Hough Line detection"
   ]
  },
  {
   "cell_type": "code",
   "execution_count": 80,
   "metadata": {},
   "outputs": [
    {
     "data": {
      "application/vnd.jupyter.widget-view+json": {
       "model_id": "efccc2e8b715495fb9ff55b29c22bb09",
       "version_major": 2,
       "version_minor": 0
      },
      "text/plain": [
       "interactive(children=(IntSlider(value=2, description='rho_res', max=10, min=1), FloatSlider(value=1.0, descrip…"
      ]
     },
     "metadata": {},
     "output_type": "display_data"
    }
   ],
   "source": [
    "@interact(rho_res=(1, 10), theta_res_deg=(0.5, 20.0, 0.5), thresh=(50, 200))\n",
    "def img2_hough(rho_res=2.0, theta_res_deg=1.0, thresh=130):\n",
    "    # Find lines\n",
    "    lines, accum = houghlines(img2_edges, rho_res=rho_res, theta_res=theta_res_deg * np.pi/180, thresh=thresh)\n",
    "    # Plot\n",
    "    plot_hough_result(img2, lines, accum)"
   ]
  },
  {
   "cell_type": "markdown",
   "metadata": {},
   "source": [
    "---\n",
    "## 5. Hough Circle Detection"
   ]
  },
  {
   "cell_type": "code",
   "execution_count": null,
   "metadata": {},
   "outputs": [],
   "source": []
  },
  {
   "cell_type": "markdown",
   "metadata": {},
   "source": [
    "---\n",
    "## 6. Clutter Image"
   ]
  },
  {
   "cell_type": "code",
   "execution_count": null,
   "metadata": {},
   "outputs": [],
   "source": []
  },
  {
   "cell_type": "markdown",
   "metadata": {},
   "source": [
    "### a. Line Detection"
   ]
  },
  {
   "cell_type": "code",
   "execution_count": null,
   "metadata": {},
   "outputs": [],
   "source": []
  },
  {
   "cell_type": "markdown",
   "metadata": {},
   "source": [
    "### b. Problems"
   ]
  },
  {
   "cell_type": "markdown",
   "metadata": {},
   "source": [
    "### c. Finding boundaries of pen"
   ]
  },
  {
   "cell_type": "code",
   "execution_count": null,
   "metadata": {},
   "outputs": [],
   "source": []
  },
  {
   "cell_type": "markdown",
   "metadata": {},
   "source": [
    "---\n",
    "## 7. Clutter Image: Circles\n",
    "### a. Hough circle detector"
   ]
  },
  {
   "cell_type": "code",
   "execution_count": null,
   "metadata": {},
   "outputs": [],
   "source": []
  },
  {
   "cell_type": "markdown",
   "metadata": {},
   "source": [
    "### b. False Alarms"
   ]
  },
  {
   "cell_type": "markdown",
   "metadata": {},
   "source": [
    "---\n",
    "## 8. Distorted Image"
   ]
  },
  {
   "cell_type": "code",
   "execution_count": null,
   "metadata": {},
   "outputs": [],
   "source": []
  },
  {
   "cell_type": "markdown",
   "metadata": {},
   "source": [
    "### a. Line and Circle Detection"
   ]
  },
  {
   "cell_type": "code",
   "execution_count": null,
   "metadata": {},
   "outputs": [],
   "source": []
  },
  {
   "cell_type": "markdown",
   "metadata": {},
   "source": [
    "### b. Problems"
   ]
  },
  {
   "cell_type": "markdown",
   "metadata": {},
   "source": [
    "### c. Fixing Circle problem"
   ]
  },
  {
   "cell_type": "code",
   "execution_count": null,
   "metadata": {},
   "outputs": [],
   "source": []
  }
 ],
 "metadata": {
  "kernelspec": {
   "display_name": "Python 3",
   "language": "python",
   "name": "python3"
  },
  "language_info": {
   "codemirror_mode": {
    "name": "ipython",
    "version": 3
   },
   "file_extension": ".py",
   "mimetype": "text/x-python",
   "name": "python",
   "nbconvert_exporter": "python",
   "pygments_lexer": "ipython3",
   "version": "3.7.0"
  }
 },
 "nbformat": 4,
 "nbformat_minor": 2
}
