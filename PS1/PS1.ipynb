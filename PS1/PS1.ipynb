{
 "cells": [
  {
   "cell_type": "markdown",
   "metadata": {},
   "source": [
    "# Problem Set 1: Edges and Lines\n",
    "---\n",
    "## Setup"
   ]
  },
  {
   "cell_type": "code",
   "execution_count": 18,
   "metadata": {},
   "outputs": [
    {
     "name": "stdout",
     "output_type": "stream",
     "text": [
      "The autoreload extension is already loaded. To reload it, use:\n",
      "  %reload_ext autoreload\n"
     ]
    }
   ],
   "source": [
    "# IPython magic\n",
    "%load_ext autoreload\n",
    "%autoreload 2\n",
    "# Matplotlib magic\n",
    "%matplotlib inline"
   ]
  },
  {
   "cell_type": "code",
   "execution_count": 19,
   "metadata": {},
   "outputs": [],
   "source": [
    "# Imports\n",
    "import cv2\n",
    "import matplotlib.pyplot as plt\n",
    "import numpy as np\n",
    "# Matplotlib params\n",
    "plt.rcParams['figure.figsize'] = (14.0, 6.0)\n",
    "plt.rcParams['axes.titlesize'] = 18\n",
    "plt.rcParams['figure.titlesize'] = 20\n",
    "plt.rcParams['image.interpolation'] = 'nearest'\n",
    "plt.rcParams['image.cmap'] = 'gray'"
   ]
  },
  {
   "cell_type": "code",
   "execution_count": 20,
   "metadata": {},
   "outputs": [],
   "source": [
    "# Change to True if Jupyter Widgets extension is installed\n",
    "IS_INTERACTIVE = True\n",
    "# Turn widgets on-off\n",
    "if IS_INTERACTIVE:\n",
    "    from ipywidgets import interact\n",
    "else:\n",
    "    def interact(**kwargs):\n",
    "        def decorator(f):\n",
    "            return f()\n",
    "        return decorator"
   ]
  },
  {
   "cell_type": "markdown",
   "metadata": {},
   "source": [
    "---\n",
    "## 1. Edge Operator"
   ]
  },
  {
   "cell_type": "code",
   "execution_count": 21,
   "metadata": {},
   "outputs": [
    {
     "data": {
      "image/png": "[encoded data removed]",
      "text/plain": [
       "<Figure size 1008x432 with 2 Axes>"
      ]
     },
     "metadata": {
      "needs_background": "light"
     },
     "output_type": "display_data"
    }
   ],
   "source": [
    "# Load image\n",
    "img1 = cv2.imread('ps1-input0.png')\n",
    "# OpenCV BGR to RGB\n",
    "img1 = img1[:,:,::-1]\n",
    "# Edge Detection\n",
    "img1_edges = cv2.Canny(img1, 100, 200)\n",
    "# Plot\n",
    "fig, ax = plt.subplots(1, 2)\n",
    "ax[0].set_title('Detected Edges')\n",
    "ax[0].imshow(img1_edges)\n",
    "ax[1].set_title('Original Image')\n",
    "ax[1].imshow(img1);"
   ]
  },
  {
   "cell_type": "markdown",
   "metadata": {},
   "source": [
    "---\n",
    "## 2. Hough Line Detector"
   ]
  },
  {
   "cell_type": "code",
   "execution_count": 45,
   "metadata": {},
   "outputs": [],
   "source": [
    "def rho_range(img):\n",
    "    rho_min = -img.shape[1]\n",
    "    rho_max = np.sqrt(img.shape[0]**2 + img.shape[1]**2)\n",
    "    return rho_min, rho_max\n",
    "\n",
    "def houghlines_accum(img, rho_res=1.0, theta_res=np.pi/180):\n",
    "    num_theta = int(round(np.pi / theta_res))\n",
    "    rho_min, rho_max = rho_range(img)\n",
    "    num_rho = int(round((rho_max-rho_min) / rho_res)) + 1\n",
    "    accum = np.zeros((num_rho, num_theta))\n",
    "    for y, row in enumerate(img):\n",
    "        for x, val in enumerate(row):\n",
    "            if val > 0:\n",
    "                for theta_ix in range(num_theta):\n",
    "                    theta = theta_ix * theta_res\n",
    "                    rho = x*np.cos(theta) + y*np.sin(theta)\n",
    "                    rho_ix = int(round((rho-rho_min) / rho_res))\n",
    "                    accum[rho_ix, theta_ix] += 1\n",
    "    return accum\n",
    "\n",
    "def extract_lines(accum, rho_min, rho_res=1.0, theta_res=np.pi/180, thresh=100):\n",
    "    lines = []\n",
    "    rows, cols = accum.shape\n",
    "    for rho_ix in range(1, rows-1):\n",
    "        for theta_ix in range(cols):\n",
    "            if accum[rho_ix, theta_ix] > thresh:\n",
    "                rho = rho_min + rho_ix*rho_res\n",
    "                if theta_ix == 0:\n",
    "                    rho_left = int(round((-rho-rho_min) / rho_res))\n",
    "                    left = accum[rho_left, -1]\n",
    "                    right = accum[rho_ix, theta_ix+1]\n",
    "                elif theta_ix == cols-1:\n",
    "                    rho_right = int(round((-rho-rho_min) / rho_res))\n",
    "                    left = accum[rho_ix, theta_ix-1]\n",
    "                    right = accum[rho_right, 0]\n",
    "                else:\n",
    "                    left = accum[rho_ix, theta_ix-1]\n",
    "                    right = accum[rho_ix, theta_ix+1]\n",
    "                    \n",
    "                if accum[rho_ix, theta_ix] > accum[rho_ix-1, theta_ix] and \\\n",
    "                accum[rho_ix, theta_ix] >= accum[rho_ix+1, theta_ix] and \\\n",
    "                accum[rho_ix, theta_ix] > left and \\\n",
    "                accum[rho_ix, theta_ix] >= right:\n",
    "                    rho = rho_min + rho_ix*rho_res\n",
    "                    theta = theta_ix*theta_res\n",
    "                    lines.append((rho, theta))\n",
    "    return lines   \n",
    "\n",
    "def get_line_points(rho, theta, xrange, yrange=0):\n",
    "    if np.sin(theta):\n",
    "        fx = (rho - xrange*np.cos(theta)) / np.sin(theta)\n",
    "        return xrange, fx\n",
    "    else:\n",
    "        fy = (rho - yrange*np.sin(theta)) / np.cos(theta)\n",
    "        return fy, yrange\n",
    "    \n",
    "def plot_hough_result(img, lines, accum):\n",
    "    fig, ax = plt.subplots(1, 2)\n",
    "    # Get rho range\n",
    "    rho_min, rho_max = rho_range(img)\n",
    "    # Lines\n",
    "    ax[0].imshow(img)\n",
    "    ax[0].set_title('Detected Lines')\n",
    "    # Fix x,y axes\n",
    "    ax[0].set_ylim(img.shape[0], 0)\n",
    "    ax[0].set_xlim(0, img.shape[1])\n",
    "    xrange = range(img.shape[1])\n",
    "    yrange = range(img.shape[0])\n",
    "    # Plot each line\n",
    "    for rho, theta in lines:\n",
    "        ax[0].plot(*get_line_points(rho, theta, xrange, yrange), 'g')\n",
    "    # Accumulator\n",
    "    im = ax[1].imshow(accum, aspect='auto', origin='lower', extent=[0, np.pi, rho_min, rho_max])\n",
    "    # Fix x,y axes\n",
    "    ax[1].set_ylim(rho_min, rho_max)\n",
    "    ax[1].set_xlim(0, np.pi)\n",
    "    if lines:\n",
    "        rho, theta = zip(*lines)\n",
    "        ax[1].scatter(theta, rho, s=80, facecolors='none', edgecolors='r')\n",
    "    ax[1].set_title('Accumulator')\n",
    "    # Create colorbar\n",
    "    plt.colorbar(im)"
   ]
  },
  {
   "cell_type": "code",
   "execution_count": 39,
   "metadata": {},
   "outputs": [
    {
     "data": {
      "application/vnd.jupyter.widget-view+json": {
       "model_id": "117294059c4d45c19379cfc81a077660",
       "version_major": 2,
       "version_minor": 0
      },
      "text/plain": [
       "interactive(children=(IntSlider(value=1, description='rho_res', max=10, min=1), Output()), _dom_classes=('widg…"
      ]
     },
     "metadata": {},
     "output_type": "display_data"
    }
   ],
   "source": [
    "@interact(rho_res=(1, 10))\n",
    "def img1_hough_accum(rho_res=1):\n",
    "    # Hacks\n",
    "    global accum\n",
    "    global rho_res_img1\n",
    "    # Find lines\n",
    "    rho_res_img1 = rho_res\n",
    "    accum = houghlines_accum(img1_edges, rho_res=rho_res)\n",
    "    # Get rho range\n",
    "    rho_min, rho_max = rho_range(img1_edges)\n",
    "    # Plot accumulator\n",
    "    plt.figure(figsize=(7, 6))\n",
    "    im = plt.imshow(accum, aspect='auto', origin='lower', extent=[0, 180, rho_min, rho_max])\n",
    "    plt.title('Accumulator')\n",
    "    # Create colorbar\n",
    "    plt.colorbar(im)"
   ]
  },
  {
   "cell_type": "code",
   "execution_count": 46,
   "metadata": {},
   "outputs": [
    {
     "data": {
      "application/vnd.jupyter.widget-view+json": {
       "model_id": "1903ef99bbd74ff981fb14cc610748ef",
       "version_major": 2,
       "version_minor": 0
      },
      "text/plain": [
       "interactive(children=(IntSlider(value=200, description='thresh', max=500, min=100), Output()), _dom_classes=('…"
      ]
     },
     "metadata": {},
     "output_type": "display_data"
    }
   ],
   "source": [
    "@interact(thresh=(100, 500))\n",
    "def img1_hough(thresh=200):\n",
    "    # Get rho range\n",
    "    rho_min, _ = rho_range(img1_edges)\n",
    "    # Get lines from accumulator matrix\n",
    "    lines = extract_lines(accum, rho_min, rho_res=rho_res_img1, thresh=thresh)\n",
    "    # Plot\n",
    "    plot_hough_result(img1, lines, accum)"
   ]
  },
  {
   "cell_type": "markdown",
   "metadata": {},
   "source": [
    "---\n",
    "## 3. Edge Detection with Noise"
   ]
  },
  {
   "cell_type": "code",
   "execution_count": 25,
   "metadata": {},
   "outputs": [],
   "source": [
    "# Load Noisy image\n",
    "img1n = cv2.imread('ps1-input0-noise.png')\n",
    "# OpenCV BGR to RGB\n",
    "img1n = img1n[:,:,::-1]"
   ]
  },
  {
   "cell_type": "markdown",
   "metadata": {},
   "source": [
    "### a. Gaussian Filter"
   ]
  },
  {
   "cell_type": "code",
   "execution_count": 26,
   "metadata": {},
   "outputs": [
    {
     "data": {
      "application/vnd.jupyter.widget-view+json": {
       "model_id": "233cd964884c4002a49a4257b6f6b70c",
       "version_major": 2,
       "version_minor": 0
      },
      "text/plain": [
       "interactive(children=(IntSlider(value=13, description='ksize', max=25, min=1, step=2), FloatSlider(value=4.2, …"
      ]
     },
     "metadata": {},
     "output_type": "display_data"
    }
   ],
   "source": [
    "@interact(ksize=(1,25,2), sigma=(0.1,5.0,0.1))\n",
    "def img1_gaussian_blur(ksize=13, sigma=4.2):\n",
    "    global img1n_blur\n",
    "    # Add blur\n",
    "    img1n_blur = cv2.GaussianBlur(img1n, (ksize, ksize), sigma)\n",
    "    # Plot\n",
    "    fig, ax = plt.subplots(1, 2)\n",
    "    ax[0].imshow(img1n_blur)\n",
    "    ax[0].set_title('Smoothed Image')\n",
    "    ax[1].imshow(img1n)\n",
    "    ax[1].set_title('Original Image')"
   ]
  },
  {
   "cell_type": "markdown",
   "metadata": {},
   "source": [
    "### b. Edge Operator"
   ]
  },
  {
   "cell_type": "code",
   "execution_count": 27,
   "metadata": {},
   "outputs": [
    {
     "data": {
      "application/vnd.jupyter.widget-view+json": {
       "model_id": "120e1c264b6f4391b7fc27b7a637b661",
       "version_major": 2,
       "version_minor": 0
      },
      "text/plain": [
       "interactive(children=(IntSlider(value=50, description='thresh1_low', max=255), IntSlider(value=65, description…"
      ]
     },
     "metadata": {},
     "output_type": "display_data"
    }
   ],
   "source": [
    "@interact(thresh1_low=(0,255), thresh1_high=(0,255))\n",
    "def img1_canny(thresh1_low=50, thresh1_high=65):\n",
    "    global img1n_blur_edges\n",
    "    # Canny edge operator\n",
    "    img1n_blur_edges = cv2.Canny(img1n_blur, thresh1_low, thresh1_high)\n",
    "    img1n_edges = cv2.Canny(img1n, 50, 65)\n",
    "    # Plot\n",
    "    fig, ax = plt.subplots(1, 2)\n",
    "    fig.suptitle('Edge Detection')\n",
    "    ax[0].imshow(img1n_blur_edges)\n",
    "    ax[0].set_title('Smoothed Image')\n",
    "    ax[1].imshow(img1n_edges)\n",
    "    ax[1].set_title('Original Image')"
   ]
  },
  {
   "cell_type": "markdown",
   "metadata": {},
   "source": [
    "### c. Hough Line detection"
   ]
  },
  {
   "cell_type": "code",
   "execution_count": 47,
   "metadata": {},
   "outputs": [
    {
     "data": {
      "application/vnd.jupyter.widget-view+json": {
       "model_id": "4712f166cffc400e98b2587b8e8d86fd",
       "version_major": 2,
       "version_minor": 0
      },
      "text/plain": [
       "interactive(children=(IntSlider(value=4, description='rho_res', max=10, min=1), FloatSlider(value=3.0, descrip…"
      ]
     },
     "metadata": {},
     "output_type": "display_data"
    }
   ],
   "source": [
    "@interact(rho_res=(1, 10), theta_res_deg=(0.5, 20.0, 0.5))\n",
    "def img1n_hough_accum(rho_res=4.0, theta_res_deg=3.0):\n",
    "    # Hacks\n",
    "    global accum, rho_res_img1n, theta_res_img1n\n",
    "    # Find lines\n",
    "    rho_res_img1n = rho_res\n",
    "    theta_res_img1n = theta_res_deg * np.pi/180\n",
    "    accum = houghlines_accum(img1n_blur_edges, rho_res=rho_res_img1n, theta_res=theta_res_img1n)\n",
    "    # Get rho range\n",
    "    rho_min, rho_max = rho_range(img1n_blur_edges)\n",
    "    # Plot accumulator\n",
    "    plt.figure(figsize=(7, 6))\n",
    "    im = plt.imshow(accum, aspect='auto', origin='lower', extent=[0, 180, rho_min, rho_max])\n",
    "    plt.title('Accumulator')\n",
    "    # Create colorbar\n",
    "    plt.colorbar(im)"
   ]
  },
  {
   "cell_type": "code",
   "execution_count": 48,
   "metadata": {},
   "outputs": [
    {
     "data": {
      "application/vnd.jupyter.widget-view+json": {
       "model_id": "229d3f11e5024927a2abe2958e0f1512",
       "version_major": 2,
       "version_minor": 0
      },
      "text/plain": [
       "interactive(children=(IntSlider(value=170, description='thresh', max=400, min=50), Output()), _dom_classes=('w…"
      ]
     },
     "metadata": {},
     "output_type": "display_data"
    }
   ],
   "source": [
    "@interact(thresh=(50, 400))\n",
    "def img1n_hough(thresh=170):\n",
    "    # Get rho range\n",
    "    rho_min, _ = rho_range(img1n_blur_edges)\n",
    "    # Get lines from accumulator matrix\n",
    "    lines = extract_lines(accum, rho_min, rho_res=rho_res_img1n, theta_res=theta_res_img1n, thresh=thresh)\n",
    "    # Plot\n",
    "    plot_hough_result(img1n, lines, accum)"
   ]
  },
  {
   "cell_type": "markdown",
   "metadata": {},
   "source": [
    "---\n",
    "## 4. Edge Detection: Second Image"
   ]
  },
  {
   "cell_type": "code",
   "execution_count": 30,
   "metadata": {},
   "outputs": [],
   "source": [
    "# Load Noisy image\n",
    "img2 = cv2.imread('ps1-input1.jpg')\n",
    "# OpenCV BGR to RGB\n",
    "img2 = img2[:,:,::-1]"
   ]
  },
  {
   "cell_type": "markdown",
   "metadata": {},
   "source": [
    "### a. Gaussian Filter"
   ]
  },
  {
   "cell_type": "code",
   "execution_count": 31,
   "metadata": {},
   "outputs": [
    {
     "data": {
      "application/vnd.jupyter.widget-view+json": {
       "model_id": "c071ea309fba4d52844bf292df0b4a96",
       "version_major": 2,
       "version_minor": 0
      },
      "text/plain": [
       "interactive(children=(IntSlider(value=11, description='ksize', max=25, min=1, step=2), FloatSlider(value=3.0, …"
      ]
     },
     "metadata": {},
     "output_type": "display_data"
    }
   ],
   "source": [
    "@interact(ksize=(1,25,2), sigma=(0.1,5.0,0.1))\n",
    "def img2_gaussian_blur(ksize=11, sigma=3.0):\n",
    "    global img2_blur\n",
    "    # Add blur\n",
    "    img2_blur = cv2.GaussianBlur(img2, (ksize, ksize), sigma)\n",
    "    # Plot\n",
    "    fig, ax = plt.subplots(1, 2)\n",
    "    ax[0].imshow(img2_blur)\n",
    "    ax[0].set_title('Smoothed Image')\n",
    "    ax[1].imshow(img2)\n",
    "    ax[1].set_title('Original Image')"
   ]
  },
  {
   "cell_type": "markdown",
   "metadata": {},
   "source": [
    "### b. Edge Operator"
   ]
  },
  {
   "cell_type": "code",
   "execution_count": 32,
   "metadata": {},
   "outputs": [
    {
     "data": {
      "application/vnd.jupyter.widget-view+json": {
       "model_id": "59d9d3ed2f34495b88e74896413049ec",
       "version_major": 2,
       "version_minor": 0
      },
      "text/plain": [
       "interactive(children=(IntSlider(value=50, description='thresh1_low', max=255), IntSlider(value=100, descriptio…"
      ]
     },
     "metadata": {},
     "output_type": "display_data"
    }
   ],
   "source": [
    "@interact(thresh1_low=(0,255), thresh1_high=(0,255))\n",
    "def img2_canny(thresh1_low=50, thresh1_high=100):\n",
    "    global img2_edges\n",
    "    # Canny edge operator\n",
    "    img2_edges = cv2.Canny(img2_blur, thresh1_low, thresh1_high)\n",
    "    # Plot\n",
    "    plt.imshow(img2_edges)"
   ]
  },
  {
   "cell_type": "markdown",
   "metadata": {},
   "source": [
    "### c. Hough Line detection"
   ]
  },
  {
   "cell_type": "code",
   "execution_count": 33,
   "metadata": {},
   "outputs": [
    {
     "data": {
      "application/vnd.jupyter.widget-view+json": {
       "model_id": "e05bec5c9acd4ed59a11a0f57eee1f2f",
       "version_major": 2,
       "version_minor": 0
      },
      "text/plain": [
       "interactive(children=(IntSlider(value=1, description='rho_res', max=10, min=1), FloatSlider(value=3.0, descrip…"
      ]
     },
     "metadata": {},
     "output_type": "display_data"
    }
   ],
   "source": [
    "@interact(rho_res=(1, 10), theta_res_deg=(0.5, 20.0, 0.5))\n",
    "def img2_hough_accum(rho_res=1.0, theta_res_deg=3.0):\n",
    "    # Hacks\n",
    "    global accum, rho_res_img2, theta_res_img2\n",
    "    # Find lines\n",
    "    rho_res_img2 = rho_res\n",
    "    theta_res_img2 = theta_res_deg * np.pi/180\n",
    "    accum = houghlines_accum(img2_edges, rho_res=rho_res_img2, theta_res=theta_res_img2)\n",
    "    # Get rho range\n",
    "    rho_min, rho_max = rho_range(img2_edges)\n",
    "    # Plot accumulator\n",
    "    plt.figure(figsize=(7, 6))\n",
    "    im = plt.imshow(accum, aspect='auto', origin='lower', extent=[0, 180, rho_min, rho_max])\n",
    "    plt.title('Accumulator')\n",
    "    # Create colorbar\n",
    "    plt.colorbar(im)"
   ]
  },
  {
   "cell_type": "code",
   "execution_count": 34,
   "metadata": {},
   "outputs": [
    {
     "data": {
      "application/vnd.jupyter.widget-view+json": {
       "model_id": "e0da33d35f204d65b9fca0f7bddfa772",
       "version_major": 2,
       "version_minor": 0
      },
      "text/plain": [
       "interactive(children=(IntSlider(value=80, description='thresh', max=200, min=50), Output()), _dom_classes=('wi…"
      ]
     },
     "metadata": {},
     "output_type": "display_data"
    }
   ],
   "source": [
    "@interact(thresh=(50, 200))\n",
    "def img1n_hough(thresh=80):\n",
    "    # Get rho range\n",
    "    rho_min, _ = rho_range(img2_edges)\n",
    "    # Get lines from accumulator matrix\n",
    "    lines = extract_lines(accum, rho_min, rho_res=rho_res_img2, theta_res=theta_res_img2, thresh=thresh)\n",
    "    # Plot\n",
    "    plot_hough_result(img2, lines, accum)"
   ]
  },
  {
   "cell_type": "markdown",
   "metadata": {},
   "source": [
    "---\n",
    "## 5. Hough Circle Detection"
   ]
  },
  {
   "cell_type": "code",
   "execution_count": null,
   "metadata": {},
   "outputs": [],
   "source": [
    "def xy_range(img, r_max):\n",
    "    x_min = -r_max\n",
    "    x_max = img.shape[1] + r_max\n",
    "    y_min = -r_max\n",
    "    y_max = img.shape[0] + r_max\n",
    "    return x_min, x_max, y_min, y_max\n",
    "\n",
    "def houghcircles_accum(img, r_min, r_max, res=1.0, r_res=1.0):\n",
    "    x_min, x_max, y_min, y_max = xy_range(img, r_max)\n",
    "    num_x = int(round((x_max-x_min) / res))\n",
    "    num_y = int(round((y_max-y_min) / res))\n",
    "    num_r = int(round((r_max-r_min) / r_res))\n",
    "    accum = np.zeros((num_y, num_x, num_r))\n",
    "    for y, row in enumerate(img):\n",
    "        for x, val in enumerate(row):\n",
    "            if val > 0:\n",
    "                for r_ix in range(num_r):\n",
    "                    r = r_min + r_ix*r_res\n",
    "                    for theta in np.arange(0, 2*np.pi, np.pi/180):\n",
    "                        x_center = x + r*np.cos(theta)\n",
    "                        y_center = y + r*np.sin(theta)\n",
    "                        \n",
    "                        x_ix = int(round((x_center-x_min) / res))\n",
    "                        y_ix = int(round((y_center-y_min) / res))\n",
    "                        \n",
    "                        accum[y_ix, x_ix, r_ix] += 1\n",
    "    return accum\n",
    "\n",
    "def extract_circles(accum, xy_min, r_min, res=1.0, r_res=1.0, thresh=100):\n",
    "    circles = []\n",
    "    num_x, num_y, num_r = accum.shape\n",
    "    for x_ix in range(1, num_x-1):\n",
    "        for y_ix in range(1, num_y-1):\n",
    "            for r_ix in range(1, num_r-1):\n",
    "                if accum[x_ix, y_ix, r_ix] > thresh and \\\n",
    "                accum[x_ix, y_ix, r_ix] > accum[x_ix-1, y_ix, r_ix] and \\\n",
    "                accum[x_ix, y_ix, r_ix] > accum[x_ix+1, y_ix, r_ix] and \\\n",
    "                accum[x_ix, y_ix, r_ix] > accum[x_ix, y_ix-1, r_ix] and \\\n",
    "                accum[x_ix, y_ix, r_ix] > accum[x_ix, y_ix+1, r_ix] and \\\n",
    "                accum[x_ix, y_ix, r_ix] > accum[x_ix, y_ix, r_ix-1] and \\\n",
    "                accum[x_ix, y_ix, r_ix] > accum[x_ix, y_ix, r_ix+1]:\n",
    "                    x = xy_min + x_ix*res\n",
    "                    y = xy_min + y_ix*res\n",
    "                    r = r_min + r_ix*r_res\n",
    "                    circles.append((x, y, r))\n",
    "    return circles\n",
    "\n",
    "def plot_accum(ax, accum):\n",
    "    # Get x, y range\n",
    "    x_min, x_max, y_min, y_max = xy_range(img, r_max)\n",
    "    # Accumulator\n",
    "    im = ax[1].imshow(accum[:, :, r_ix], aspect='auto', origin='lower', extent=[x_min, x_max, y_min, y_max])\n",
    "    # Fix x,y axes\n",
    "    ax[1].set_xlim(x_min, x_max)\n",
    "    ax[1].set_ylim(y_min, y_max)\n",
    "    if circles:\n",
    "        x, y, r = zip(*circles)\n",
    "        r_ix = int(round((r-r_min) / r_res))\n",
    "        if r_ix == r_ix_slice:\n",
    "            ax[1].scatter(x, y, s=80, facecolors='none', edgecolors='r')\n",
    "    ax[1].set_title('Accumulator')\n",
    "    # Create colorbar\n",
    "    plt.colorbar(im)\n",
    "    \n",
    "def plot_hough_result(img, circles, accum, r_ix_slice, r_min, r_max, r_res=1.0):\n",
    "    fig, ax = plt.subplots(1, 2)\n",
    "    # Circles\n",
    "    ax[0].imshow(img)\n",
    "    ax[0].set_title('Detected Circles')\n",
    "    # Fix x,y axes\n",
    "    ax[0].set_ylim(img.shape[0], 0)\n",
    "    ax[0].set_xlim(0, img.shape[1])\n",
    "    # Plot each circle\n",
    "    for x, y, r in circles:\n",
    "        ax[0].plot((x, y), r)\n",
    "    # Get x, y range\n",
    "    x_min, x_max, y_min, y_max = xy_range(img, r_max)\n",
    "    # Accumulator\n",
    "    im = ax[1].imshow(accum[:, :, r_ix], aspect='auto', origin='lower', extent=[x_min, x_max, y_min, y_max])\n",
    "    # Fix x,y axes\n",
    "    ax[1].set_xlim(x_min, x_max)\n",
    "    ax[1].set_ylim(y_min, y_max)\n",
    "    if circles:\n",
    "        x, y, r = zip(*circles)\n",
    "        r_ix = int(round((r-r_min) / r_res))\n",
    "        if r_ix == r_ix_slice:\n",
    "            ax[1].scatter(x, y, s=80, facecolors='none', edgecolors='r')\n",
    "    ax[1].set_title('Accumulator')\n",
    "    # Create colorbar\n",
    "    plt.colorbar(im)"
   ]
  },
  {
   "cell_type": "code",
   "execution_count": null,
   "metadata": {},
   "outputs": [],
   "source": [
    "r_min = 10.0\n",
    "r_max = 50.0\n",
    "houghcircles(img2_edges, r_min, r_max)"
   ]
  },
  {
   "cell_type": "markdown",
   "metadata": {},
   "source": [
    "---\n",
    "## 6. Clutter Image"
   ]
  },
  {
   "cell_type": "code",
   "execution_count": null,
   "metadata": {},
   "outputs": [],
   "source": []
  },
  {
   "cell_type": "markdown",
   "metadata": {},
   "source": [
    "### a. Line Detection"
   ]
  },
  {
   "cell_type": "code",
   "execution_count": null,
   "metadata": {},
   "outputs": [],
   "source": []
  },
  {
   "cell_type": "markdown",
   "metadata": {},
   "source": [
    "### b. Problems"
   ]
  },
  {
   "cell_type": "markdown",
   "metadata": {},
   "source": [
    "### c. Finding boundaries of pen"
   ]
  },
  {
   "cell_type": "code",
   "execution_count": null,
   "metadata": {},
   "outputs": [],
   "source": []
  },
  {
   "cell_type": "markdown",
   "metadata": {},
   "source": [
    "---\n",
    "## 7. Clutter Image: Circles\n",
    "### a. Hough circle detector"
   ]
  },
  {
   "cell_type": "code",
   "execution_count": null,
   "metadata": {},
   "outputs": [],
   "source": []
  },
  {
   "cell_type": "markdown",
   "metadata": {},
   "source": [
    "### b. False Alarms"
   ]
  },
  {
   "cell_type": "markdown",
   "metadata": {},
   "source": [
    "---\n",
    "## 8. Distorted Image"
   ]
  },
  {
   "cell_type": "code",
   "execution_count": null,
   "metadata": {},
   "outputs": [],
   "source": []
  },
  {
   "cell_type": "markdown",
   "metadata": {},
   "source": [
    "### a. Line and Circle Detection"
   ]
  },
  {
   "cell_type": "code",
   "execution_count": null,
   "metadata": {},
   "outputs": [],
   "source": []
  },
  {
   "cell_type": "markdown",
   "metadata": {},
   "source": [
    "### b. Problems"
   ]
  },
  {
   "cell_type": "markdown",
   "metadata": {},
   "source": [
    "### c. Fixing Circle problem"
   ]
  },
  {
   "cell_type": "code",
   "execution_count": null,
   "metadata": {},
   "outputs": [],
   "source": []
  }
 ],
 "metadata": {
  "kernelspec": {
   "display_name": "Python 3",
   "language": "python",
   "name": "python3"
  },
  "language_info": {
   "codemirror_mode": {
    "name": "ipython",
    "version": 3
   },
   "file_extension": ".py",
   "mimetype": "text/x-python",
   "name": "python",
   "nbconvert_exporter": "python",
   "pygments_lexer": "ipython3",
   "version": "3.7.0"
  }
 },
 "nbformat": 4,
 "nbformat_minor": 2
}
